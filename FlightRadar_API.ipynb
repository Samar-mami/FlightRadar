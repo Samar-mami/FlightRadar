{
  "nbformat": 4,
  "nbformat_minor": 0,
  "metadata": {
    "colab": {
      "provenance": [],
      "authorship_tag": "ABX9TyPLzzYyDyYmTb2P8ZMxXBZd",
      "include_colab_link": true
    },
    "kernelspec": {
      "name": "python3",
      "display_name": "Python 3"
    },
    "language_info": {
      "name": "python"
    }
  },
  "cells": [
    {
      "cell_type": "markdown",
      "metadata": {
        "id": "view-in-github",
        "colab_type": "text"
      },
      "source": [
        "<a href=\"https://colab.research.google.com/github/Samar-mami/FlightRadar/blob/main/FlightRadar_API.ipynb\" target=\"_parent\"><img src=\"https://colab.research.google.com/assets/colab-badge.svg\" alt=\"Open In Colab\"/></a>"
      ]
    },
    {
      "cell_type": "code",
      "execution_count": 1,
      "metadata": {
        "colab": {
          "base_uri": "https://localhost:8080/"
        },
        "id": "n_GkbIS_soHP",
        "outputId": "45b89195-7318-4c83-d5df-00bc27411744"
      },
      "outputs": [
        {
          "output_type": "stream",
          "name": "stdout",
          "text": [
            "Looking in indexes: https://pypi.org/simple, https://us-python.pkg.dev/colab-wheels/public/simple/\n",
            "Collecting FlightRadarAPI\n",
            "  Downloading FlightRadarAPI-1.2.7.tar.gz (7.7 kB)\n",
            "  Preparing metadata (setup.py) ... \u001b[?25l\u001b[?25hdone\n",
            "Collecting Brotli (from FlightRadarAPI)\n",
            "  Downloading Brotli-1.0.9-cp310-cp310-manylinux_2_5_x86_64.manylinux1_x86_64.manylinux_2_12_x86_64.manylinux2010_x86_64.whl (2.7 MB)\n",
            "\u001b[2K     \u001b[90m━━━━━━━━━━━━━━━━━━━━━━━━━━━━━━━━━━━━━━━━\u001b[0m \u001b[32m2.7/2.7 MB\u001b[0m \u001b[31m26.9 MB/s\u001b[0m eta \u001b[36m0:00:00\u001b[0m\n",
            "\u001b[?25hRequirement already satisfied: requests in /usr/local/lib/python3.10/dist-packages (from FlightRadarAPI) (2.27.1)\n",
            "Collecting Deprecated (from FlightRadarAPI)\n",
            "  Downloading Deprecated-1.2.13-py2.py3-none-any.whl (9.6 kB)\n",
            "Requirement already satisfied: wrapt<2,>=1.10 in /usr/local/lib/python3.10/dist-packages (from Deprecated->FlightRadarAPI) (1.14.1)\n",
            "Requirement already satisfied: urllib3<1.27,>=1.21.1 in /usr/local/lib/python3.10/dist-packages (from requests->FlightRadarAPI) (1.26.15)\n",
            "Requirement already satisfied: certifi>=2017.4.17 in /usr/local/lib/python3.10/dist-packages (from requests->FlightRadarAPI) (2022.12.7)\n",
            "Requirement already satisfied: charset-normalizer~=2.0.0 in /usr/local/lib/python3.10/dist-packages (from requests->FlightRadarAPI) (2.0.12)\n",
            "Requirement already satisfied: idna<4,>=2.5 in /usr/local/lib/python3.10/dist-packages (from requests->FlightRadarAPI) (3.4)\n",
            "Building wheels for collected packages: FlightRadarAPI\n",
            "  Building wheel for FlightRadarAPI (setup.py) ... \u001b[?25l\u001b[?25hdone\n",
            "  Created wheel for FlightRadarAPI: filename=FlightRadarAPI-1.2.7-py3-none-any.whl size=8982 sha256=7e0742861e73a7f5faa98176773f3a99972b4342e60a18151e3df37822f90aa2\n",
            "  Stored in directory: /root/.cache/pip/wheels/d6/e6/93/529ba7913d529d209f5442feebc21c39d35f1f7def8b54a1a7\n",
            "Successfully built FlightRadarAPI\n",
            "Installing collected packages: Brotli, Deprecated, FlightRadarAPI\n",
            "Successfully installed Brotli-1.0.9 Deprecated-1.2.13 FlightRadarAPI-1.2.7\n"
          ]
        }
      ],
      "source": [
        "!pip3 install FlightRadarAPI"
      ]
    },
    {
      "cell_type": "code",
      "source": [],
      "metadata": {
        "id": "VtvI5svzvB-k"
      },
      "execution_count": null,
      "outputs": []
    }
  ]
}